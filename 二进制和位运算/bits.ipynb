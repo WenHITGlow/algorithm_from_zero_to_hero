{
 "cells": [
  {
   "cell_type": "code",
   "execution_count": 2,
   "metadata": {},
   "outputs": [],
   "source": [
    "from IPython.core.interactiveshell import InteractiveShell\n",
    "InteractiveShell.ast_node_interactivity = \"all\" # 每一行独立变量都会打印  而不仅仅是最后一行"
   ]
  },
  {
   "cell_type": "markdown",
   "metadata": {},
   "source": [
    "# 位运算相关"
   ]
  },
  {
   "cell_type": "markdown",
   "metadata": {},
   "source": [
    "```text\n",
    "1）负数怎么用二进制表达\n",
    "   打印二进制；直接定义二进制、十六进制的变量\n",
    "   相反数（整数最小值的特殊性(取绝对值还是自己)）\n",
    "2）常见的位运算（|、&、^、~、<<、>>、>>>）\n",
    "3）为什么这么设计二进制（为了加法的逻辑是一套逻辑，没有条件转移）-> 快！\n",
    "4）关于溢出（自己确保自己的调用所得到的结果不会溢出，一定是自己确保的，计算机不会给你做检查）\n",
    "5）位运算玩法很多很多，特别是异或运算、如何用位运算实现加减乘除\n",
    "```\n"
   ]
  },
  {
   "cell_type": "markdown",
   "metadata": {},
   "source": [
    "## 负数的二进制表达"
   ]
  },
  {
   "cell_type": "markdown",
   "metadata": {},
   "source": [
    "1、计算机中存储负数采用补码形式存储，两种方式推出负数x的二进制表示：\n",
    "- 第一种：正数(-x)的二级制表示-1再全部取反。(或者记成取反加1)\n",
    "- 第二种：第一位是1，表示负数，剩余位表示成$-2^n+(-x)$\n",
    "- 第三种：1 << N + x, N表示位数\n",
    "\n",
    "例如：\n",
    "- -5 = 0101-1 -> 0100 取反-> 1011\n",
    "- -5 = -2^3 + 3 -> 1011 (其中011表示3)\n",
    "- -5 = 10000 (16) + (-5) = 11 = 1011\n",
    "\n",
    "给一个负的二进制数怎么看是多少呢：取反加一（和上面一致）\n",
    "- 1111 1011 -> 0000 0100 + 1 -> 0000 0101 -> -5\n",
    "\n",
    "2、为什么用补码存储呢？\n",
    "- 可以统一加减法运算\n",
    "- 0只有一种表示方式\n",
    "- 便于计算机硬件实现\n",
    "\n",
    "例如：5+（-5）=0的计算过程\n",
    "```text\n",
    "   0000 0101  (5)\n",
    " + 1111 1011  (-5)\n",
    " = 0000 0000  (0)  （超出8位的进位被舍弃）\n",
    " ```"
   ]
  },
  {
   "cell_type": "markdown",
   "metadata": {},
   "source": [
    "3、我们看看python的负数怎么表示呢？"
   ]
  },
  {
   "cell_type": "code",
   "execution_count": 3,
   "metadata": {},
   "outputs": [
    {
     "name": "stdout",
     "output_type": "stream",
     "text": [
      "-0b101\n"
     ]
    }
   ],
   "source": [
    "print(bin(-5))"
   ]
  },
  {
   "cell_type": "markdown",
   "metadata": {},
   "source": [
    "你会发现python中二进制存储并没表示成最高位为1，而是直接显示负号。后面的二进制是正数对应的二进制\n",
    "\n",
    "Python的整数没有固定的位数限制（可以任意大）"
   ]
  },
  {
   "cell_type": "markdown",
   "metadata": {},
   "source": [
    "不同位数下-5的补码表示：\n",
    "- 4位：  1011\n",
    "- 8位：  1111 1011\n",
    "- 16位： 1111 1111 1111 1011"
   ]
  },
  {
   "cell_type": "markdown",
   "metadata": {},
   "source": [
    "4、特殊负数\n",
    "```text\n",
    "-1:    1111 1111  （所有位都是1）\n",
    "-128:  1000 0000  （8位中最小的负数）\n",
    "-127:  1000 0001\n",
    "```"
   ]
  },
  {
   "cell_type": "code",
   "execution_count": 21,
   "metadata": {},
   "outputs": [
    {
     "name": "stdout",
     "output_type": "stream",
     "text": [
      "78\n",
      "00000000000000000000000001001110\n",
      "===a===\n",
      "-6\n",
      "11111111111111111111111111111010\n",
      "===b===\n",
      "78\n",
      "00000000000000000000000001001110\n",
      "===c===\n"
     ]
    }
   ],
   "source": [
    "def print_binary(num, bits=32):\n",
    "    \"\"\"\n",
    "    Print a number in its 32-bit binary representation.\n",
    "    Left side is high bits, right side is low bits.\n",
    "    \"\"\"\n",
    "    for i in range(bits-1, -1, -1):\n",
    "        # We can use either:\n",
    "        # print('1' if (num & (1 << i)) != 0 else '0', end='')\n",
    "        # But not:\n",
    "        # print('1' if (num & (1 << i)) == 1 else '0', end='')\n",
    "        # Because if the i-th bit is 1, (num & (1 << i)) equals 2^i, not 1\n",
    "        print('1' if (num & (1 << i)) != 0 else '0', end='')\n",
    "    print()\n",
    "    \n",
    "a = 78\n",
    "print(a)\n",
    "print_binary(a)\n",
    "print(\"===a===\")\n",
    "\n",
    "b = -6\n",
    "print(b)\n",
    "print_binary(b)\n",
    "print(\"===b===\")\n",
    "\n",
    "# Binary literal\n",
    "c = 0b1001110\n",
    "print(c)\n",
    "print_binary(c)\n",
    "print(\"===c===\")"
   ]
  },
  {
   "cell_type": "code",
   "execution_count": 4,
   "metadata": {},
   "outputs": [
    {
     "name": "stdout",
     "output_type": "stream",
     "text": [
      "\n",
      "4位二进制表示:\n",
      "------------------------------\n",
      "   5 的补码表示: 0101\n",
      "  -5 的补码表示: 1011\n",
      "   3 的补码表示: 0011\n",
      "  -3 的补码表示: 1101\n",
      " 127 的补码表示: 1111111\n",
      "-128 的补码表示: -1110000\n",
      "\n",
      "8位二进制表示:\n",
      "------------------------------\n",
      "   5 的补码表示: 00000101\n",
      "  -5 的补码表示: 11111011\n",
      "   3 的补码表示: 00000011\n",
      "  -3 的补码表示: 11111101\n",
      " 127 的补码表示: 01111111\n",
      "-128 的补码表示: 10000000\n",
      "\n",
      "16位二进制表示:\n",
      "------------------------------\n",
      "   5 的补码表示: 0000000000000101\n",
      "  -5 的补码表示: 1111111111111011\n",
      "   3 的补码表示: 0000000000000011\n",
      "  -3 的补码表示: 1111111111111101\n",
      " 127 的补码表示: 0000000001111111\n",
      "-128 的补码表示: 1111111110000000\n"
     ]
    }
   ],
   "source": [
    "def print_twos_complement(n, bits=8):\n",
    "    \"\"\"\n",
    "    按补码形式打印数字（支持正数和负数）\n",
    "    参数:\n",
    "        n: 要打印的数字\n",
    "        bits: 位数（默认8位）\n",
    "    \"\"\"\n",
    "    if n >= 0:\n",
    "        # 正数直接转换为二进制，并补齐位数\n",
    "        return format(n, f'0{bits}b')\n",
    "    else:\n",
    "        # 负数需要计算补码\n",
    "        # (1 << bits) 给出指定位数的模，如8位时为256\n",
    "        # 在模下加上负数，自动得到补码表示\n",
    "        return format((1 << bits) + n, f'0{bits}b')\n",
    "def test_binary_representation():\n",
    "    numbers = [5, -5, 3, -3, 127, -128]\n",
    "    bit_sizes = [4, 8, 16]\n",
    "    \n",
    "    for bits in bit_sizes:\n",
    "        print(f\"\\n{bits}位二进制表示:\")\n",
    "        print(\"-\" * 30)\n",
    "        for n in numbers:\n",
    "            try:\n",
    "                binary = print_twos_complement(n, bits)\n",
    "                print(f\"{n:4d} 的补码表示: {binary}\")\n",
    "            except ValueError:\n",
    "                print(f\"{n:4d} 超出了{bits}位能表示的范围\")\n",
    "\n",
    "test_binary_representation()"
   ]
  },
  {
   "cell_type": "code",
   "execution_count": 5,
   "metadata": {},
   "outputs": [
    {
     "data": {
      "text/plain": [
       "'01001110'"
      ]
     },
     "execution_count": 5,
     "metadata": {},
     "output_type": "execute_result"
    },
    {
     "data": {
      "text/plain": [
       "'10110001'"
      ]
     },
     "execution_count": 5,
     "metadata": {},
     "output_type": "execute_result"
    },
    {
     "data": {
      "text/plain": [
       "'10110010'"
      ]
     },
     "execution_count": 5,
     "metadata": {},
     "output_type": "execute_result"
    },
    {
     "data": {
      "text/plain": [
       "'10110010'"
      ]
     },
     "execution_count": 5,
     "metadata": {},
     "output_type": "execute_result"
    },
    {
     "data": {
      "text/plain": [
       "'10110010'"
      ]
     },
     "execution_count": 5,
     "metadata": {},
     "output_type": "execute_result"
    }
   ],
   "source": [
    "print_twos_complement(78)\n",
    "print_twos_complement(~78)\n",
    "print_twos_complement(-78) # 负数补码第三种获取方式\n",
    "print_twos_complement(~78+1) # 负数补码第一种获取方式\n",
    "print_twos_complement(~(78-1)) # 第一种"
   ]
  },
  {
   "cell_type": "code",
   "execution_count": 6,
   "metadata": {},
   "outputs": [
    {
     "data": {
      "text/plain": [
       "'10000000'"
      ]
     },
     "execution_count": 6,
     "metadata": {},
     "output_type": "execute_result"
    },
    {
     "data": {
      "text/plain": [
       "'10000000'"
      ]
     },
     "execution_count": 6,
     "metadata": {},
     "output_type": "execute_result"
    },
    {
     "data": {
      "text/plain": [
       "'01111111'"
      ]
     },
     "execution_count": 6,
     "metadata": {},
     "output_type": "execute_result"
    }
   ],
   "source": [
    "# 相反数：取反+1\n",
    "# 注意的是：有符号数的最小值的相反数还是自己（对于固定位数来说的）\n",
    "print_twos_complement(-128)\n",
    "print_twos_complement(~(-128)+1) \n",
    "# 与-128的补码形式一样，如果对于固定位数来说，该补码形式仍然是-128\n",
    "print_twos_complement(~(-128))"
   ]
  },
  {
   "cell_type": "code",
   "execution_count": 7,
   "metadata": {},
   "outputs": [
    {
     "name": "stdout",
     "output_type": "stream",
     "text": [
      "128\n"
     ]
    }
   ],
   "source": [
    "print(~(-128)+1) # 对python没有这个问题，因为python的整数没有位数限制"
   ]
  },
  {
   "cell_type": "code",
   "execution_count": 19,
   "metadata": {},
   "outputs": [
    {
     "name": "stdout",
     "output_type": "stream",
     "text": [
      "1. 十进制转16进制:\n",
      "255 的16进制是: 0xff\n",
      "255 的16进制是: ff\n",
      "255 的16进制是: FF\n",
      "255 的16进制是: ff\n",
      "255 的16进制是: FF\n",
      "\n",
      "2. 指定位数的16进制(补零):\n",
      "26 的16进制(4位): 001a\n",
      "26 的16进制(4位): 001a\n",
      "\n",
      "3. 带0x前缀的16进制:\n",
      "26 的16进制: 0x1a\n",
      "26 的16进制: 0x1a\n",
      "\n",
      "4. 16进制转十进制:\n",
      "16进制 1a 转十进制: 26\n",
      "16进制 0x1a 转十进制: 26\n",
      "\n",
      "5. 负数的16进制表示:\n",
      "-26 的16进制是: -0x1a\n",
      "-26 的16进制补码(8位): e6\n",
      "-26 的16进制补码(16位): ffe6\n",
      "\n",
      "6. 16进制字节数据:\n",
      "字节数据的16进制: 1aff007f\n",
      "字节数据的16进制(带空格): 1a ff 00 7f\n",
      "\n",
      "7. 16进制字符串转字节:\n",
      "16进制字符串转字节: b'\\x1a\\xff\\x00\\x7f'\n",
      "\n",
      "8. 16进制数值运算:\n",
      "0x1a + 0xff = 0x119\n"
     ]
    }
   ],
   "source": [
    "def demonstrate_hex():\n",
    "    \"\"\"演示Python中16进制数的各种操作\"\"\"\n",
    "    \n",
    "    print(\"1. 十进制转16进制:\")\n",
    "    num = 255\n",
    "    # 方法1：使用hex()函数\n",
    "    print(f\"{num} 的16进制是: {hex(num)}\")              # 0xff\n",
    "    # 方法2：使用format\n",
    "    print(f\"{num} 的16进制是: {format(num, 'x')}\")      # ff (小写)\n",
    "    print(f\"{num} 的16进制是: {format(num, 'X')}\")      # FF (大写)\n",
    "    # 方法3：使用f-string\n",
    "    print(f\"{num} 的16进制是: {num:x}\")                 # ff (小写)\n",
    "    print(f\"{num} 的16进制是: {num:X}\")                 # FF (大写)\n",
    "    \n",
    "    print(\"\\n2. 指定位数的16进制(补零):\")\n",
    "    num = 26\n",
    "    print(f\"{num} 的16进制(4位): {format(num, '04x')}\")  # 001a\n",
    "    print(f\"{num} 的16进制(4位): {num:04x}\")            # 001a\n",
    "    \n",
    "    print(\"\\n3. 带0x前缀的16进制:\")\n",
    "    print(f\"{num} 的16进制: {format(num, '#x')}\")       # 0x1a\n",
    "    print(f\"{num} 的16进制: {num:#x}\")                  # 0x1a\n",
    "    \n",
    "    print(\"\\n4. 16进制转十进制:\")\n",
    "    hex_num = \"1a\"\n",
    "    print(f\"16进制 {hex_num} 转十进制: {int(hex_num, 16)}\")  # 26\n",
    "    hex_num = \"0x1a\"\n",
    "    print(f\"16进制 {hex_num} 转十进制: {int(hex_num, 16)}\")  # 26\n",
    "    \n",
    "    print(\"\\n5. 负数的16进制表示:\")\n",
    "    num = -26\n",
    "    print(f\"{num} 的16进制是: {hex(num)}\")              # -0x1a\n",
    "    # 按补码形式显示（8位）\n",
    "    print(f\"{num} 的16进制补码(8位): {num & 0xFF:02x}\")  # e6\n",
    "    # 按补码形式显示（16位）\n",
    "    print(f\"{num} 的16进制补码(16位): {num & 0xFFFF:04x}\")  # ffe6\n",
    "    \n",
    "    print(\"\\n6. 16进制字节数据:\")\n",
    "    data = bytes([26, 255, 0, 127])\n",
    "    print(f\"字节数据的16进制: {data.hex()}\")            # 1aff007f\n",
    "    print(f\"字节数据的16进制(带空格): {data.hex(' ')}\")  # 1a ff 00 7f\n",
    "    \n",
    "    print(\"\\n7. 16进制字符串转字节:\")\n",
    "    hex_string = \"1aff007f\"\n",
    "    print(f\"16进制字符串转字节: {bytes.fromhex(hex_string)}\")\n",
    "    \n",
    "    print(\"\\n8. 16进制数值运算:\")\n",
    "    a = 0x1a  # 直接使用16进制字面量\n",
    "    b = 0xff\n",
    "    print(f\"0x1a + 0xff = {hex(a + b)}\")  # 0x119\n",
    "\n",
    "\n",
    "demonstrate_hex()"
   ]
  },
  {
   "cell_type": "markdown",
   "metadata": {},
   "source": [
    "## 常用位运算"
   ]
  },
  {
   "cell_type": "code",
   "execution_count": 9,
   "metadata": {},
   "outputs": [
    {
     "name": "stdout",
     "output_type": "stream",
     "text": [
      "1. 按位与 &:\n",
      "60 & 13 = 12\n",
      "二进制表示: 0b111100 & 0b1101 = 0b1100\n",
      "\n"
     ]
    }
   ],
   "source": [
    "\n",
    "# 1. 按位与 &\n",
    "print(\"1. 按位与 &:\")\n",
    "a = 60      # 二进制: 0011 1100\n",
    "b = 13      # 二进制: 0000 1101\n",
    "print(f\"60 & 13 = {a & b}\")  # 结果: 12 (0000 1100)\n",
    "print(f\"二进制表示: {bin(a)} & {bin(b)} = {bin(a & b)}\\n\")\n"
   ]
  },
  {
   "cell_type": "code",
   "execution_count": 10,
   "metadata": {},
   "outputs": [
    {
     "name": "stdout",
     "output_type": "stream",
     "text": [
      "2. 按位或 |:\n",
      "60 | 13 = 61\n",
      "二进制表示: 0b111100 | 0b1101 = 0b111101\n",
      "\n"
     ]
    }
   ],
   "source": [
    "\n",
    "# 2. 按位或 |\n",
    "print(\"2. 按位或 |:\")\n",
    "print(f\"60 | 13 = {a | b}\")  # 结果: 61 (0011 1101)\n",
    "print(f\"二进制表示: {bin(a)} | {bin(b)} = {bin(a | b)}\\n\")\n"
   ]
  },
  {
   "cell_type": "code",
   "execution_count": 11,
   "metadata": {},
   "outputs": [
    {
     "name": "stdout",
     "output_type": "stream",
     "text": [
      "3. 按位异或 ^:\n",
      "60 ^ 13 = 49\n",
      "二进制表示: 0b111100 ^ 0b1101 = 0b110001\n",
      "\n"
     ]
    }
   ],
   "source": [
    "\n",
    "# 3. 按位异或 ^\n",
    "print(\"3. 按位异或 ^:\")\n",
    "print(f\"60 ^ 13 = {a ^ b}\")  # 结果: 49 (0011 0001)\n",
    "print(f\"二进制表示: {bin(a)} ^ {bin(b)} = {bin(a ^ b)}\\n\")\n"
   ]
  },
  {
   "cell_type": "code",
   "execution_count": 12,
   "metadata": {},
   "outputs": [
    {
     "name": "stdout",
     "output_type": "stream",
     "text": [
      "4. 按位取反 ~:\n",
      "~60 = -61\n",
      "二进制表示: ~0b111100 = 0b11111111111111111111111111000011\n",
      "\n"
     ]
    }
   ],
   "source": [
    "\n",
    "# 4. 按位取反 ~\n",
    "print(\"4. 按位取反 ~:\")\n",
    "print(f\"~60 = {~a}\")  # 结果: -61\n",
    "print(f\"二进制表示: ~{bin(a)} = {bin(~a & 0xFFFFFFFF)}\\n\")  # 显示32位表示\n"
   ]
  },
  {
   "cell_type": "code",
   "execution_count": 13,
   "metadata": {},
   "outputs": [
    {
     "name": "stdout",
     "output_type": "stream",
     "text": [
      "5. 左移 <<:\n",
      "5 << 2 = 20\n",
      "二进制表示: 0b101 << 2 = 0b10100\n",
      "\n"
     ]
    }
   ],
   "source": [
    "\n",
    "# 5. 左移 << 左移n位相当于乘以2^n\n",
    "print(\"5. 左移 <<:\")\n",
    "x = 5       # 二进制: 0000 0101\n",
    "print(f\"5 << 2 = {x << 2}\")  # 结果: 20 (0001 0100)\n",
    "print(f\"二进制表示: {bin(x)} << 2 = {bin(x << 2)}\\n\")\n"
   ]
  },
  {
   "cell_type": "code",
   "execution_count": 17,
   "metadata": {},
   "outputs": [
    {
     "name": "stdout",
     "output_type": "stream",
     "text": [
      "6. 右移 >>:\n",
      "20 >> 2 = 5\n",
      "二进制表示: 0b10100 >> 2 = 0b101\n",
      "\n",
      "-5 >>  = -3\n",
      "二进制表示: -0b101 >> 1 = -0b10\n",
      "\n"
     ]
    }
   ],
   "source": [
    "\n",
    "# 6. 右移 >> 算数右移（用符号位来补）\n",
    "print(\"6. 右移 >>:\")\n",
    "y = 20      # 二进制: 0001 0100\n",
    "print(f\"20 >> 2 = {y >> 2}\")  # 结果: 5 (0000 0101)\n",
    "print(f\"二进制表示: {bin(y)} >> 2 = {bin(y >> 2)}\\n\")\n",
    "\n",
    "y = -5     \n",
    "print(f\"-5 >>  = {y >> 1}\")  \n",
    "print(f\"二进制表示: {bin(y)} >> 1 = {bin(y >> 2)}\\n\")\n"
   ]
  },
  {
   "cell_type": "code",
   "execution_count": null,
   "metadata": {},
   "outputs": [],
   "source": []
  },
  {
   "cell_type": "markdown",
   "metadata": {},
   "source": [
    "## 常用属性"
   ]
  },
  {
   "cell_type": "markdown",
   "metadata": {},
   "source": [
    "### a^a=0 "
   ]
  },
  {
   "cell_type": "code",
   "execution_count": 22,
   "metadata": {},
   "outputs": [
    {
     "name": "stdout",
     "output_type": "stream",
     "text": [
      "交换前: a = 5, b = 10\n",
      "交换后: a = 10, b = 5\n"
     ]
    }
   ],
   "source": [
    "# 交换两个数(使用的属性a^a=0,需要注意a和b不能指向同一地址或同一个数)\n",
    "a = 5\n",
    "b = 10\n",
    "print(f\"交换前: a = {a}, b = {b}\")\n",
    "a = a ^ b\n",
    "b = a ^ b\n",
    "a = a ^ b\n",
    "print(f\"交换后: a = {a}, b = {b}\")"
   ]
  },
  {
   "cell_type": "code",
   "execution_count": null,
   "metadata": {},
   "outputs": [],
   "source": []
  },
  {
   "cell_type": "markdown",
   "metadata": {},
   "source": [
    "## 技巧"
   ]
  },
  {
   "cell_type": "code",
   "execution_count": null,
   "metadata": {},
   "outputs": [],
   "source": [
    "\n",
    "# 实际应用示例\n",
    "print(\"实际应用示例:\")\n",
    "\n",
    "# 1. 判断奇偶性\n",
    "num = 7\n",
    "print(f\"{num} 是{'偶数' if (num & 1) == 0 else '奇数'}\")\n",
    "\n",
    "\n",
    "\n",
    "# 3. 设置标志位\n",
    "flags = 0\n",
    "READ = 4    # 二进制: 0100\n",
    "WRITE = 2   # 二进制: 0010\n",
    "EXEC = 1    # 二进制: 0001\n",
    "\n",
    "# 设置权限\n",
    "flags |= READ | WRITE     # 添加读写权限\n",
    "print(f\"\\n权限设置示例:\")\n",
    "print(f\"当前权限: {bin(flags)}\")\n",
    "print(f\"是否有读权限: {bool(flags & READ)}\")\n",
    "print(f\"是否有写权限: {bool(flags & WRITE)}\")\n",
    "print(f\"是否有执行权限: {bool(flags & EXEC)}\")\n"
   ]
  }
 ],
 "metadata": {
  "kernelspec": {
   "display_name": "base",
   "language": "python",
   "name": "python3"
  },
  "language_info": {
   "codemirror_mode": {
    "name": "ipython",
    "version": 3
   },
   "file_extension": ".py",
   "mimetype": "text/x-python",
   "name": "python",
   "nbconvert_exporter": "python",
   "pygments_lexer": "ipython3",
   "version": "3.12.7"
  }
 },
 "nbformat": 4,
 "nbformat_minor": 2
}
