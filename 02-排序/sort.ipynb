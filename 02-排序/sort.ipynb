{
 "cells": [
  {
   "cell_type": "markdown",
   "metadata": {},
   "source": [
    "# 各种排序算法"
   ]
  },
  {
   "cell_type": "markdown",
   "metadata": {},
   "source": [
    "## 三傻排序"
   ]
  },
  {
   "cell_type": "markdown",
   "metadata": {},
   "source": [
    "```text\n",
    "选择排序一句话：i~n-1范围上，找到最小值并放在i位置，然后i+1~n-1范围上继续\n",
    "\n",
    "冒泡排序一句话：0~i范围上，相邻位置较大的数滚下去，最大值最终来到i位置，然后0~i-1范围上继续\n",
    "\n",
    "插入排序一句话：0~i范围上已经有序，新来的数从右到左滑到不再小的位置插入，然后继续\n",
    "\n",
    "```"
   ]
  },
  {
   "cell_type": "code",
   "execution_count": 7,
   "metadata": {},
   "outputs": [],
   "source": [
    "# 选择排序（Selection Sort）\n",
    "# 时间复杂度：O(n^2)\n",
    "# 空间复杂度：O(1)\n",
    "# 稳定性：不稳定\n",
    "# 思路：每次从未排序区间选择最小的元素，放到已排序区间的末尾\n",
    "def swap(arr, i, j):\n",
    "    arr[i], arr[j] = arr[j], arr[i]\n",
    "    \n",
    "def selection_sort(arr):\n",
    "    l = len(arr)\n",
    "    for i in range(l-1):\n",
    "        min_idx = i\n",
    "        for j in range(i+1,l):\n",
    "            if arr[j] < arr[min_idx]:\n",
    "                min_idx = j\n",
    "        swap(arr, i, min_idx)\n",
    "    return arr\n"
   ]
  },
  {
   "cell_type": "code",
   "execution_count": 12,
   "metadata": {},
   "outputs": [
    {
     "name": "stdout",
     "output_type": "stream",
     "text": [
      "[1, 2, 5, 5, 6, 88]\n",
      "[2]\n",
      "[]\n"
     ]
    }
   ],
   "source": [
    "print(selection_sort([2,5,6,88,5,1]))\n",
    "print(selection_sort([2]))\n",
    "print(selection_sort([]))\n"
   ]
  },
  {
   "cell_type": "code",
   "execution_count": 16,
   "metadata": {},
   "outputs": [
    {
     "name": "stdout",
     "output_type": "stream",
     "text": [
      "[1, 2, 5, 5, 6, 88]\n",
      "[2]\n",
      "[]\n"
     ]
    }
   ],
   "source": [
    "# 冒泡排序\n",
    "# 时间复杂度：O(n^2)\n",
    "# 空间复杂度：O(1)\n",
    "# 稳定性：稳定\n",
    "# 思路：每次从未排序区间选择最大的元素，放到已排序区间的末尾\n",
    "def bubble_sort(arr):\n",
    "    l = len(arr)\n",
    "    for end_idx in range(l-1, 0, -1):\n",
    "        for i in range(end_idx):\n",
    "            if (arr[i] > arr[i+1]):\n",
    "                swap(arr, i, i+1)\n",
    "    return arr\n",
    "\n",
    "print(bubble_sort([2,5,6,88,5,1]))\n",
    "print(bubble_sort([2]))\n",
    "print(bubble_sort([]))\n"
   ]
  },
  {
   "cell_type": "code",
   "execution_count": 18,
   "metadata": {},
   "outputs": [
    {
     "name": "stdout",
     "output_type": "stream",
     "text": [
      "[1, 2, 5, 5, 6, 88]\n",
      "[2]\n",
      "[]\n"
     ]
    }
   ],
   "source": [
    "# 插入排序\n",
    "# 时间复杂度：O(n^2)\n",
    "# 空间复杂度：O(1)\n",
    "# 稳定性：稳定\n",
    "# 思路：将未排序区间的新元素插入到已排序区间的合适位置\n",
    "def insertion_sort(arr):\n",
    "    l = len(arr)\n",
    "    if l <= 1:\n",
    "        return arr\n",
    "    for i in range(1, l): # 0-i范围是已经有序的\n",
    "        for j in range(i, 0, -1): # 新来的数从右到左滑到不再小的位置\n",
    "            if arr[j-1] > arr[j]:\n",
    "                swap(arr, j, j-1)\n",
    "            else:\n",
    "                break # 如果新来的数比左边的数小，则停止\n",
    "    return arr\n",
    " \n",
    "print(insertion_sort([2,5,6,88,5,1]))\n",
    "print(insertion_sort([2]))\n",
    "print(insertion_sort([]))\n",
    "\n"
   ]
  },
  {
   "cell_type": "code",
   "execution_count": null,
   "metadata": {},
   "outputs": [],
   "source": []
  }
 ],
 "metadata": {
  "kernelspec": {
   "display_name": "base",
   "language": "python",
   "name": "python3"
  },
  "language_info": {
   "codemirror_mode": {
    "name": "ipython",
    "version": 3
   },
   "file_extension": ".py",
   "mimetype": "text/x-python",
   "name": "python",
   "nbconvert_exporter": "python",
   "pygments_lexer": "ipython3",
   "version": "3.12.7"
  }
 },
 "nbformat": 4,
 "nbformat_minor": 2
}
